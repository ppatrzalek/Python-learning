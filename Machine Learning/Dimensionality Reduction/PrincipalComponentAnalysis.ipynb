{
 "cells": [
  {
   "cell_type": "markdown",
   "metadata": {},
   "source": [
    "# Principal Component Analalysis"
   ]
  },
  {
   "cell_type": "markdown",
   "metadata": {},
   "source": [
    "My goal is to explain basic things about principal component analysis - one of the dimension reduction method. I would like to explain this method using easy example on matrix with three features ($X_{1}$, $X_{2}$, $X_{3}$) and four observations."
   ]
  },
  {
   "cell_type": "code",
   "execution_count": 2,
   "metadata": {},
   "outputs": [],
   "source": [
    "import numpy as np\n",
    "import pandas as pd"
   ]
  },
  {
   "cell_type": "code",
   "execution_count": 3,
   "metadata": {},
   "outputs": [
    {
     "data": {
      "text/plain": [
       "array([[2, 4, 3],\n",
       "       [4, 8, 6],\n",
       "       [9, 7, 2]])"
      ]
     },
     "execution_count": 3,
     "metadata": {},
     "output_type": "execute_result"
    }
   ],
   "source": [
    "X_1 = [2, 4, 9]\n",
    "X_2 = [4, 8, 7]\n",
    "X_3 = [3, 6, 2]\n",
    "\n",
    "X = np.array([X_1, X_2, X_3]).T\n",
    "X"
   ]
  },
  {
   "cell_type": "markdown",
   "metadata": {},
   "source": [
    "Above I create numpy array with three features. My first step is to find expected values of this features. I will use below estimator of mean:"
   ]
  },
  {
   "cell_type": "markdown",
   "metadata": {},
   "source": [
    "\\begin{align}\n",
    "\\bf{E(X)} = \\frac{1}{N} \\sum_{n=1}^{N} x_{i}\n",
    "\\end{align}    "
   ]
  },
  {
   "cell_type": "code",
   "execution_count": 266,
   "metadata": {},
   "outputs": [
    {
     "name": "stdout",
     "output_type": "stream",
     "text": [
      "Expected value: [5. 5. 4.]\n"
     ]
    }
   ],
   "source": [
    "X_mean = np.mean(X, axis=0)\n",
    "print(\"Expected value:\", X_mean)"
   ]
  },
  {
   "cell_type": "code",
   "execution_count": 267,
   "metadata": {},
   "outputs": [
    {
     "name": "stdout",
     "output_type": "stream",
     "text": [
      "Standard devaition of each feature: [2.54950976 2.73861279 1.58113883]\n"
     ]
    }
   ],
   "source": [
    "X_feature_std = np.std(X, axis=0)\n",
    "print(\"Standard devaition of each feature:\", X_feature_std)"
   ]
  },
  {
   "cell_type": "code",
   "execution_count": 268,
   "metadata": {},
   "outputs": [
    {
     "name": "stdout",
     "output_type": "stream",
     "text": [
      "Deviation matrix:\n",
      " [[-3. -1. -1.]\n",
      " [-1.  3.  2.]\n",
      " [ 4.  2. -2.]\n",
      " [ 0. -4.  1.]]\n"
     ]
    }
   ],
   "source": [
    "X_std = (X-X_mean)\n",
    "print(\"Deviation matrix:\\n\", X_std)"
   ]
  },
  {
   "cell_type": "code",
   "execution_count": 269,
   "metadata": {},
   "outputs": [
    {
     "name": "stdout",
     "output_type": "stream",
     "text": [
      "Covariance matrix: \n",
      " [[ 8.66666667  2.66666667 -2.33333333]\n",
      " [ 2.66666667 10.         -0.33333333]\n",
      " [-2.33333333 -0.33333333  3.33333333]]\n"
     ]
    }
   ],
   "source": [
    "Cov_matrix = (1/3)*np.dot(X_std.T, X_std)\n",
    "print(\"Covariance matrix: \\n\", Cov_matrix)"
   ]
  },
  {
   "cell_type": "code",
   "execution_count": 270,
   "metadata": {},
   "outputs": [
    {
     "data": {
      "text/plain": [
       "array([[-3., -1.,  4.,  0.],\n",
       "       [-1.,  3.,  2., -4.],\n",
       "       [-1.,  2., -2.,  1.]])"
      ]
     },
     "execution_count": 270,
     "metadata": {},
     "output_type": "execute_result"
    }
   ],
   "source": [
    "X_std.T"
   ]
  },
  {
   "cell_type": "code",
   "execution_count": 271,
   "metadata": {},
   "outputs": [
    {
     "data": {
      "text/plain": [
       "array([[ 8.66666667,  2.66666667, -2.33333333],\n",
       "       [ 2.66666667, 10.        , -0.33333333],\n",
       "       [-2.33333333, -0.33333333,  3.33333333]])"
      ]
     },
     "execution_count": 271,
     "metadata": {},
     "output_type": "execute_result"
    }
   ],
   "source": [
    "np.cov(X_std.T)"
   ]
  },
  {
   "cell_type": "code",
   "execution_count": 272,
   "metadata": {},
   "outputs": [
    {
     "data": {
      "text/plain": [
       "(array([12.41661146,  7.1857126 ,  2.39767594]),\n",
       " array([[-0.64554098, -0.66129609,  0.38205279],\n",
       "        [-0.73895116,  0.66721154, -0.09370137],\n",
       "        [ 0.19294569,  0.34280642,  0.9193779 ]]))"
      ]
     },
     "execution_count": 272,
     "metadata": {},
     "output_type": "execute_result"
    }
   ],
   "source": [
    "np.linalg.eig(np.cov(X_std.T))"
   ]
  },
  {
   "cell_type": "code",
   "execution_count": 287,
   "metadata": {},
   "outputs": [],
   "source": [
    "values, vectors = np.linalg.eig(Cov_matrix)"
   ]
  },
  {
   "cell_type": "code",
   "execution_count": 288,
   "metadata": {},
   "outputs": [
    {
     "name": "stdout",
     "output_type": "stream",
     "text": [
      "Principal Components: [12.41661146  7.1857126   2.39767594]\n"
     ]
    }
   ],
   "source": [
    "print(\"Principal Components:\", values)"
   ]
  },
  {
   "cell_type": "code",
   "execution_count": 289,
   "metadata": {},
   "outputs": [
    {
     "name": "stdout",
     "output_type": "stream",
     "text": [
      "Vectors: \n",
      " [[-0.64554098 -0.66129609  0.38205279]\n",
      " [-0.73895116  0.66721154 -0.09370137]\n",
      " [ 0.19294569  0.34280642  0.9193779 ]]\n"
     ]
    }
   ],
   "source": [
    "print(\"Vectors: \\n\", vectors)"
   ]
  },
  {
   "cell_type": "code",
   "execution_count": 293,
   "metadata": {},
   "outputs": [
    {
     "name": "stdout",
     "output_type": "stream",
     "text": [
      "[[ 2.4826284  -1.18542112 -4.44595759  3.14875031]\n",
      " [ 0.97387029  3.34854356 -1.99637411 -2.32603975]\n",
      " [-1.97183491  1.17559891 -0.49794736  1.29418336]]\n"
     ]
    }
   ],
   "source": [
    "P = np.dot(vectors.T, X_std.T)\n",
    "print(P)"
   ]
  },
  {
   "cell_type": "code",
   "execution_count": 274,
   "metadata": {},
   "outputs": [],
   "source": [
    "from sklearn.decomposition import PCA"
   ]
  },
  {
   "cell_type": "code",
   "execution_count": 297,
   "metadata": {},
   "outputs": [
    {
     "data": {
      "text/plain": [
       "PCA(copy=True, iterated_power='auto', n_components=3, random_state=None,\n",
       "  svd_solver='full', tol=0.0, whiten=False)"
      ]
     },
     "execution_count": 297,
     "metadata": {},
     "output_type": "execute_result"
    }
   ],
   "source": [
    "pca_model = PCA(n_components=3, svd_solver = 'full')\n",
    "pca_model.fit(X)"
   ]
  },
  {
   "cell_type": "code",
   "execution_count": 298,
   "metadata": {},
   "outputs": [
    {
     "name": "stdout",
     "output_type": "stream",
     "text": [
      "Mean of the variables: [5. 5. 4.]\n"
     ]
    }
   ],
   "source": [
    "print(\"Mean of the variables:\", pca_model.mean_)"
   ]
  },
  {
   "cell_type": "code",
   "execution_count": 299,
   "metadata": {},
   "outputs": [
    {
     "data": {
      "text/plain": [
       "array([6.10326424, 4.64296649, 2.68198207])"
      ]
     },
     "execution_count": 299,
     "metadata": {},
     "output_type": "execute_result"
    }
   ],
   "source": [
    "pca_model.singular_values_"
   ]
  },
  {
   "cell_type": "code",
   "execution_count": 300,
   "metadata": {},
   "outputs": [
    {
     "data": {
      "text/plain": [
       "array([[ 0.64554098,  0.73895116, -0.19294569],\n",
       "       [-0.66129609,  0.66721154,  0.34280642],\n",
       "       [-0.38205279,  0.09370137, -0.9193779 ]])"
      ]
     },
     "execution_count": 300,
     "metadata": {},
     "output_type": "execute_result"
    }
   ],
   "source": [
    "pca_model.components_"
   ]
  },
  {
   "cell_type": "code",
   "execution_count": 301,
   "metadata": {},
   "outputs": [
    {
     "name": "stdout",
     "output_type": "stream",
     "text": [
      "[[-2.4826284   0.97387029  1.97183491]\n",
      " [ 1.18542112  3.34854356 -1.17559891]\n",
      " [ 4.44595759 -1.99637411  0.49794736]\n",
      " [-3.14875031 -2.32603975 -1.29418336]]\n"
     ]
    }
   ],
   "source": [
    "Y = pca_model.transform(X)\n",
    "print(Y)"
   ]
  },
  {
   "cell_type": "code",
   "execution_count": 302,
   "metadata": {},
   "outputs": [
    {
     "data": {
      "text/plain": [
       "array([[-2.4826284 ,  1.18542112,  4.44595759, -3.14875031],\n",
       "       [ 0.97387029,  3.34854356, -1.99637411, -2.32603975],\n",
       "       [ 1.97183491, -1.17559891,  0.49794736, -1.29418336]])"
      ]
     },
     "execution_count": 302,
     "metadata": {},
     "output_type": "execute_result"
    }
   ],
   "source": [
    "Y.T"
   ]
  },
  {
   "cell_type": "code",
   "execution_count": 303,
   "metadata": {},
   "outputs": [
    {
     "data": {
      "text/plain": [
       "array([[ 2.4826284 , -1.18542112, -4.44595759,  3.14875031],\n",
       "       [ 0.97387029,  3.34854356, -1.99637411, -2.32603975],\n",
       "       [-1.97183491,  1.17559891, -0.49794736,  1.29418336]])"
      ]
     },
     "execution_count": 303,
     "metadata": {},
     "output_type": "execute_result"
    }
   ],
   "source": [
    "P"
   ]
  },
  {
   "cell_type": "code",
   "execution_count": null,
   "metadata": {},
   "outputs": [],
   "source": []
  }
 ],
 "metadata": {
  "kernelspec": {
   "display_name": "Python 3",
   "language": "python",
   "name": "python3"
  },
  "language_info": {
   "codemirror_mode": {
    "name": "ipython",
    "version": 3
   },
   "file_extension": ".py",
   "mimetype": "text/x-python",
   "name": "python",
   "nbconvert_exporter": "python",
   "pygments_lexer": "ipython3",
   "version": "3.7.3"
  }
 },
 "nbformat": 4,
 "nbformat_minor": 2
}
